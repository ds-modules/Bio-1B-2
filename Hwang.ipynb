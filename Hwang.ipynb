{
 "cells": [
  {
   "cell_type": "markdown",
   "id": "3f417422",
   "metadata": {},
   "source": [
    "<!-- BEGIN QUESTION -->\n",
    "# [Bio 1B] Part A: Using Morphological Evidence to Make Hypotheses about Relationships"
   ]
  },
  {
   "cell_type": "code",
   "execution_count": 45,
   "id": "11f89d07",
   "metadata": {},
   "outputs": [],
   "source": [
    "import pandas as pd\n",
    "import numpy as np\n",
    "from IPython.display import HTML\n",
    "import ipywidgets as widgets\n",
    "from ipywidgets import interact, interact_manual, fixed\n",
    "from IPython.display import display\n",
    "from IPython.display import clear_output\n",
    "\n",
    "!pip install otter-grader -q\n",
    "import otter\n",
    "grader = otter.Notebook()"
   ]
  },
  {
   "cell_type": "code",
   "execution_count": null,
   "id": "42a2f60c",
   "metadata": {},
   "outputs": [],
   "source": []
  },
  {
   "cell_type": "code",
   "execution_count": 51,
   "id": "aef9c9ec",
   "metadata": {},
   "outputs": [
    {
     "name": "stdout",
     "output_type": "stream",
     "text": [
      "Requirement already satisfied: biopython in /Users/danhwang/opt/anaconda3/lib/python3.9/site-packages (1.81)\n",
      "Requirement already satisfied: numpy in /Users/danhwang/opt/anaconda3/lib/python3.9/site-packages (from biopython) (1.21.5)\n",
      "Solenodon\n",
      "Seq('000000000000')\n",
      "12\n",
      "Chimpanzee\n",
      "Seq('111111111100')\n",
      "12\n",
      "Galago\n",
      "Seq('100000000011')\n",
      "12\n",
      "Gibbon\n",
      "Seq('101110011000')\n",
      "12\n",
      "Gorilla\n",
      "Seq('111111111000')\n",
      "12\n",
      "Human\n",
      "Seq('111111111100')\n",
      "12\n",
      "Lemur\n",
      "Seq('100000000011')\n",
      "12\n",
      "Marmoset\n",
      "Seq('101100011000')\n",
      "12\n",
      "Orangutan\n",
      "Seq('101111111000')\n",
      "12\n",
      "Tarsier\n",
      "Seq('100000001001')\n",
      "12\n",
      "\n",
      "\n",
      "Solenodon\n",
      "Chimpanzee\n",
      "Galago\n",
      "Gibbon\n",
      "Gorilla\n",
      "Human\n",
      "Lemur\n",
      "Marmoset\n",
      "Orangutan\n",
      "Tarsier\n"
     ]
    }
   ],
   "source": [
    "!pip install biopython\n",
    "from Bio import Phylo\n",
    "from Bio import SeqIO\n",
    "for seq_record in SeqIO.parse(\"PrimatePhylogenetics_MorphologicalData.fasta.FASTA\", \"fasta\"):\n",
    "    print(seq_record.id)\n",
    "    print(repr(seq_record.seq))\n",
    "    print(len(seq_record))\n",
    "print(\"\\n\")\n",
    "for record in SeqIO.parse(\"PrimatePhylogenetics_MorphologicalData.fasta.FASTA\", \"fasta\"):\n",
    "    print(record.id)"
   ]
  },
  {
   "cell_type": "code",
   "execution_count": 48,
   "id": "07a63d8a",
   "metadata": {},
   "outputs": [
    {
     "name": "stdout",
     "output_type": "stream",
     "text": [
      "Solenodon   0.000000\n",
      "Chimpanzee  0.833333    0.000000\n",
      "Galago  0.250000    0.916667    0.000000\n",
      "Gibbon  0.500000    0.333333    0.583333    0.000000\n",
      "Gorilla 0.750000    0.083333    0.833333    0.250000    0.000000\n",
      "Human   0.833333    0.000000    0.916667    0.333333    0.083333    0.000000\n",
      "Lemur   0.250000    0.916667    0.000000    0.583333    0.833333    0.916667    0.000000\n",
      "Marmoset    0.416667    0.416667    0.500000    0.083333    0.333333    0.416667    0.500000    0.000000\n",
      "Orangutan   0.666667    0.166667    0.750000    0.166667    0.083333    0.166667    0.750000    0.250000    0.000000\n",
      "Tarsier 0.250000    0.750000    0.166667    0.416667    0.666667    0.750000    0.166667    0.333333    0.583333    0.000000\n",
      "    Solenodon   Chimpanzee  Galago  Gibbon  Gorilla Human   Lemur   Marmoset    Orangutan   Tarsier\n"
     ]
    }
   ],
   "source": [
    "from Bio import AlignIO\n",
    "from Bio.Phylo.TreeConstruction import DistanceCalculator, DistanceTreeConstructor\n",
    "import os\n",
    "\n",
    "align = AlignIO.read(\"PrimatePhylogenetics_MorphologicalData.fasta.FASTA\", \"fasta\")\n",
    "\n",
    "calculator = DistanceCalculator('identity')\n",
    "distMatrix = calculator.get_distance(align)\n",
    "print(distMatrix)\n",
    "\n",
    "# Load the input data into a MultipleSeqAlignment object\n",
    "alignment = AlignIO.read(\"PrimatePhylogenetics_MorphologicalData.fasta.FASTA\", \"fasta\")\n",
    "\n",
    "# Construct the phylogenetic tree using the Parsimony method\n",
    "tree = Phylo.BaseTree.Tree(alignment)"
   ]
  },
  {
   "cell_type": "code",
   "execution_count": 49,
   "id": "51770990",
   "metadata": {},
   "outputs": [
    {
     "data": {
      "image/png": "[encoded data removed]",
      "text/plain": [
       "<Figure size 432x288 with 1 Axes>"
      ]
     },
     "metadata": {
      "needs_background": "light"
     },
     "output_type": "display_data"
    },
    {
     "name": "stdout",
     "output_type": "stream",
     "text": [
      "                                                         _____ Marmoset\n",
      "                                         _______________|\n",
      "                                        |               |_____ Gibbon\n",
      "                                        |\n",
      "  ______________________________________|                   ______ Orangutan\n",
      " |                                      |                __|\n",
      " |                                      |               |  |______ Gorilla\n",
      " |                                      |_______________|\n",
      " |                                                      |         , Human\n",
      "_|                                                      |_________|\n",
      " |                                                                | Chimpanzee\n",
      " |\n",
      " |                                ____________ Tarsier\n",
      " |                          _____|\n",
      " |                         |     |            , Lemur\n",
      " |_________________________|     |____________|\n",
      "                           |                  | Galago\n",
      "                           |\n",
      "                           |__________________ Solenodon\n",
      "\n"
     ]
    }
   ],
   "source": [
    "constructor = DistanceTreeConstructor()\n",
    "NJTree = constructor.nj(distMatrix) \n",
    "UGMATree = constructor.upgma(distMatrix)\n",
    "\n",
    "Phylo.draw(NJTree)# Draw the phlyogenetic tree using terminal\n",
    "Phylo.draw_ascii(UGMATree)"
   ]
  }
 ],
 "metadata": {
  "celltoolbar": "Edit Metadata",
  "kernelspec": {
   "display_name": "Python 3 (ipykernel)",
   "language": "python",
   "name": "python3"
  },
  "language_info": {
   "codemirror_mode": {
    "name": "ipython",
    "version": 3
   },
   "file_extension": ".py",
   "mimetype": "text/x-python",
   "name": "python",
   "nbconvert_exporter": "python",
   "pygments_lexer": "ipython3",
   "version": "3.9.12"
  }
 },
 "nbformat": 4,
 "nbformat_minor": 5
}
