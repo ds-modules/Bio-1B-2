{
 "cells": [
  {
   "cell_type": "markdown",
   "metadata": {
    "deletable": false,
    "editable": false
   },
   "source": [
    "# Biology 1B - Mousey "
   ]
  },
  {
   "cell_type": "markdown",
   "metadata": {
    "deletable": false,
    "editable": false
   },
   "source": [
    "![title](bio1b.jpg)"
   ]
  },
  {
   "cell_type": "markdown",
   "metadata": {
    "deletable": false,
    "editable": false
   },
   "source": [
    "## Table of Contents"
   ]
  },
  {
   "cell_type": "markdown",
   "metadata": {
    "deletable": false,
    "editable": false
   },
   "source": [
    "* [Introduction to Jupyter Notebooks](#intro_to_notebook)\n",
    "* [Mousey Simulation](#mousey_sim)\n",
    "* [Discussion Section](#discussion)\n",
    "* [Submission](#submission)\n",
    "\n",
    "\n"
   ]
  },
  {
   "cell_type": "markdown",
   "metadata": {
    "deletable": false,
    "editable": false
   },
   "source": [
    "# Introduction to Jupyter Notebook <a class=\"anchor\" id=\"intro_to_notebook\"></a>"
   ]
  },
  {
   "cell_type": "markdown",
   "metadata": {
    "deletable": false,
    "editable": false
   },
   "source": [
    "### Types of Cells"
   ]
  },
  {
   "cell_type": "markdown",
   "metadata": {
    "deletable": false,
    "editable": false
   },
   "source": [
    "There are two types of cells that we will be using today in Jupyter: code cells and markdown cells. Code cells are cells indicated with “In [ ]:” to the left of the cell. In these cells you can write you own code and run the code in the individual cell. Markdown cells hold text a majority of the time and do not have “In [ ]” to the left of the cell."
   ]
  },
  {
   "cell_type": "markdown",
   "metadata": {
    "deletable": false,
    "editable": false
   },
   "source": [
    "### Running Cells"
   ]
  },
  {
   "cell_type": "markdown",
   "metadata": {
    "deletable": false,
    "editable": false
   },
   "source": [
    "'Running' a code cell is like pressing 'Enter' on a calculator once you've typed in an expression; it computes all of the expressions contained within the cell.\n",
    "Here are the steps to running a code cell:\n",
    "1.\tClick on the cell.\n",
    "a.\tYou will notice that there is a green box around the code cell you have clicked on\n",
    "2.\tYou can do one of the following to run the cell:\n",
    "<br />\n",
    "•\tpress Shift + Enter\n",
    "<br />\n",
    "•\tclick Cell -> Run Cells in the toolbar at the top of the screen.\n",
    "3.\tYou will see an asterisk (*) next to the code cell you are trying to run. This means that the code is running and will be done momentarily.\n",
    "\n",
    "Practice Running the code cell below"
   ]
  },
  {
   "cell_type": "code",
   "execution_count": null,
   "metadata": {
    "deletable": false,
    "editable": false
   },
   "outputs": [],
   "source": [
    "print(\"Hello World\")"
   ]
  },
  {
   "cell_type": "markdown",
   "metadata": {
    "deletable": false,
    "editable": false
   },
   "source": [
    "You should see \"Hello World\" printed below the code cell. In general, the output of running a cell is shown in the line immediately after it. \n",
    "<br />\n",
    "Notice that markdown cells have no output."
   ]
  },
  {
   "cell_type": "markdown",
   "metadata": {
    "deletable": false,
    "editable": false
   },
   "source": [
    "# Mousey Simulation <a class=\"anchor\" id=\"mousey_sim\"></a>"
   ]
  },
  {
   "cell_type": "markdown",
   "metadata": {
    "deletable": false,
    "editable": false
   },
   "source": [
    "Please run the following code cells.\n",
    "After running the bottom two code cells, if you are unable to see the Grey and White Screen for the Simulation, Refresh your page and releoad the bottom two code cells."
   ]
  },
  {
   "cell_type": "markdown",
   "metadata": {
    "deletable": false,
    "editable": false
   },
   "source": [
    "Here we have a simulation to illustrate the process and effects of Natural Selection. The black and white dots represent the black and white mice. On the right-hand side, you can customize the following variables: simulation speed, number of mice, mutation rate, selection intensity, mortality rate and migrate rate. \n",
    "<br/>\n",
    "Press “Simulate” to begin the simulation.\n",
    "<br/>\n",
    "Pressing “Clear” will remove all mice from the board. \n",
    "<br/>\n",
    "Pressing “Reset” will start the simulation again.\n",
    "<br/>\n",
    "On the bottom outlines the number of mice for each genotype before and after selection. "
   ]
  },
  {
   "cell_type": "code",
   "execution_count": null,
   "metadata": {
    "deletable": false,
    "editable": false
   },
   "outputs": [],
   "source": [
    "%%capture\n",
    "!pip install ipympl\n",
    "\n",
    "%matplotlib widget\n",
    "import ipywidgets as widgets\n",
    "from Mousey import *"
   ]
  },
  {
   "cell_type": "code",
   "execution_count": null,
   "metadata": {
    "deletable": false,
    "editable": false
   },
   "outputs": [],
   "source": [
    "def stop_simulation():\n",
    "    if 'simulation_process' in globals():\n",
    "        simulation_process.terminate()\n",
    "    \n",
    "@simulate_button.on_click\n",
    "def start_simulation(_):\n",
    "    def simulation_work(scat, plt, fig):\n",
    "        settings = get_settings()\n",
    "        x = np.concatenate([np.random.random(settings['num_mice'] // 2) * 0.5, \\\n",
    "                            (np.random.random(settings['num_mice'] // 2) * 0.5) + 0.5])\n",
    "        y = np.random.random(settings['num_mice'])\n",
    "        geno = np.array([Geno.dd] * settings['num_mice']) # 0 = dd, 1 = Dd, 2 = DD\n",
    "        pheno = geno_to_pheno(geno)\n",
    "        scat = plt.scatter(x, y, c=pheno, s=10, zorder=2)\n",
    "        scat.set_offsets(np.array((x, y)).T)\n",
    "        for _ in range(100):\n",
    "            print() # I have no idea why but the simulation only works when you print.\n",
    "            x, y, geno = iterate_generation(x, y, geno, pheno, settings)\n",
    "            pheno = geno_to_pheno(geno)\n",
    "            scat.set_offsets(np.array((x, y)).T)\n",
    "            scat.set_color(pheno)\n",
    "            fig.canvas.draw()\n",
    "            time.sleep(speed_slider.value) # Check slider to dynamically modify speed\n",
    "        fig.clear()\n",
    "        fig.canvas.draw()\n",
    "        \n",
    "    global simulation_process # We only run one simulation process concurrently\n",
    "    global scat, plt, fig\n",
    "    clear_simulation()\n",
    "    simulation_process = multiprocessing.Process(target=simulation_work, args=(scat, plt, fig))\n",
    "    simulation_process.start()\n",
    "\n",
    "def clear():\n",
    "    plt.clf()\n",
    "    fig.canvas.draw()\n",
    "    plt.rcParams[\"figure.figsize\"] = (6, 4)\n",
    "    plt.rcParams[\"figure.constrained_layout.use\"] = True\n",
    "    plt.xlim(0, 1)\n",
    "    plt.ylim(0, 1)\n",
    "    plt.axvspan(0, 0.5, facecolor='grey', alpha=0.7, zorder=1)\n",
    "    plt.axvspan(0.5, 1, facecolor='black', alpha=0.7, zorder=1)\n",
    "    plt.axis('off')\n",
    "    scat = plt.scatter([], [])\n",
    "    fig.canvas.draw()\n",
    "    \n",
    "# This is necessary because the onclick decorator sets the variable to None (so other functions can't call it)\n",
    "def clear_simulation():\n",
    "    stop_simulation()\n",
    "    clear()\n",
    "    \n",
    "@clear_button.on_click\n",
    "def clear_simulation_onclick(_):\n",
    "    clear_simulation()\n",
    "    \n",
    "@reset_button.on_click\n",
    "def reset_simulation(_):\n",
    "    stop_simulation()\n",
    "\n",
    "with output:\n",
    "    plt.rcParams[\"figure.figsize\"] = (6, 4)\n",
    "    plt.rcParams[\"figure.constrained_layout.use\"] = True\n",
    "    fig = plt.figure()\n",
    "    plt.xlim(0, 1)\n",
    "    plt.ylim(0, 1)\n",
    "    plt.axvspan(0, 0.5, facecolor='grey', alpha=0.7, zorder=1)\n",
    "    plt.axvspan(0.5, 1, facecolor='black', alpha=0.7, zorder=1)\n",
    "    plt.axis('off')\n",
    "    scat = plt.scatter([], [])\n",
    "    fig.canvas.draw()\n",
    "    \n",
    "left_layout = widgets.Layout(width='70%')\n",
    "display(widgets.HBox([widgets.VBox([output, geno_counts], layout=left_layout), control_bar]))"
   ]
  },
  {
   "cell_type": "markdown",
   "metadata": {
    "deletable": false,
    "editable": false
   },
   "source": [
    "## Discussion Section <a class=\"anchor\" id=\"discussion\"></a>"
   ]
  },
  {
   "cell_type": "markdown",
   "metadata": {},
   "source": [
    "### Question #1"
   ]
  },
  {
   "cell_type": "markdown",
   "metadata": {},
   "source": [
    "WRITE YOUR ANSWER HERE. REPLACE THIS LINE WITH YOUR ANSWER BY DOUBLE-CLICKING THE CELL"
   ]
  },
  {
   "cell_type": "markdown",
   "metadata": {},
   "source": [
    "### Question #2"
   ]
  },
  {
   "cell_type": "markdown",
   "metadata": {},
   "source": [
    "WRITE YOUR ANSWER HERE. REPLACE THIS LINE WITH YOUR ANSWER BY DOUBLE-CLICKING THE CELL"
   ]
  },
  {
   "cell_type": "markdown",
   "metadata": {
    "deletable": false,
    "editable": false
   },
   "source": [
    "## Submission <a class=\"anchor\" id=\"submission\"></a>"
   ]
  },
  {
   "cell_type": "markdown",
   "metadata": {
    "deletable": false,
    "editable": false
   },
   "source": [
    "To generate a pdf for submission:"
   ]
  },
  {
   "cell_type": "markdown",
   "metadata": {
    "deletable": false,
    "editable": false
   },
   "source": [
    "Option 1:\n",
    "* On the top left of the Jupyter Notebook Click \"File\" ---> \"Print Preview\". It will generate a new window.\n",
    "* Right Click --> Print. Change to appropriate Destinate and File name\n",
    "\n",
    "<br />\n",
    "Option 2:\n",
    "\n",
    "* Press Ctrl + P \n",
    "* Change Destination to Save as PDF\n",
    "* Press Save, Generate a File name and Select File Location"
   ]
  },
  {
   "cell_type": "markdown",
   "metadata": {
    "deletable": false,
    "editable": false
   },
   "source": [
    "## Data Science Opportunities"
   ]
  },
  {
   "cell_type": "markdown",
   "metadata": {
    "deletable": false,
    "editable": false
   },
   "source": [
    "If you enjoyed this notebook and would like to continue your journey with Biology and Data Science check out the following courses: \n",
    "<br />\n",
    "Data 8: The Foundations of Data Science\n",
    "<br />\n",
    "MCB 88: Immunotherapy of Cancer\n",
    "<br />\n",
    "PSYCH 88: Data Science for Cognitive Neuroscience\n",
    "<br />\n",
    "COGSCI 88: Data Science & The Mind\n",
    "<br />\n",
    "\n",
    "\n",
    "If you are interested in joining the Data Science Education Program check out our website for Student Opportunities!\n",
    "https://data.berkeley.edu/academics/resources/student-opportunities\n",
    "\n",
    "\n",
    "If you are interested in more Data Science courses at Berkeley Check out this website!\n",
    "Data Science Offerings at Berkeley: https://data.berkeley.edu/academics/undergraduate-programs/data-science-offerings\n"
   ]
  }
 ],
 "metadata": {
  "kernelspec": {
   "display_name": "Python 3",
   "language": "python",
   "name": "python3"
  },
  "language_info": {
   "codemirror_mode": {
    "name": "ipython",
    "version": 3
   },
   "file_extension": ".py",
   "mimetype": "text/x-python",
   "name": "python",
   "nbconvert_exporter": "python",
   "pygments_lexer": "ipython3",
   "version": "3.8.6"
  }
 },
 "nbformat": 4,
 "nbformat_minor": 4
}
