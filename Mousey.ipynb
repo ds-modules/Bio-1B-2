{
 "cells": [
  {
   "cell_type": "markdown",
   "metadata": {},
   "source": [
    "# Biology 1B - Mousey "
   ]
  },
  {
   "cell_type": "markdown",
   "metadata": {},
   "source": [
    "## Table of Contents"
   ]
  },
  {
   "cell_type": "markdown",
   "metadata": {},
   "source": [
    "* [Introduction to Jupyter Notebooks](#first-bullet)\n",
    "* [Mousey Simulation](#second-bullet)\n",
    "* [Questions](#bullet)\n",
    "* [Submission](#-bullet)"
   ]
  },
  {
   "cell_type": "markdown",
   "metadata": {},
   "source": [
    "##  Jupyter Notebooks"
   ]
  },
  {
   "cell_type": "markdown",
   "metadata": {},
   "source": [
    "**Types of Cells**"
   ]
  },
  {
   "cell_type": "markdown",
   "metadata": {},
   "source": [
    "There are two types of cells that we will be using today in Jupyter: code cells and markdown cells. Code cells are cells indicated with “In [ ]:” to the left of the cell. In these cells you can write you own code and run the code in the individual cell. Markdown cells hold text a majority of the time and do not have “In [ ]” to the left of the cell."
   ]
  },
  {
   "cell_type": "markdown",
   "metadata": {},
   "source": [
    "<style>\n",
    "pre {\n",
    "  font-size: 20px;\n",
    "}\n",
    "</style>\n",
    "\n",
    "**Running Cells**"
   ]
  },
  {
   "cell_type": "markdown",
   "metadata": {},
   "source": [
    "'Running' a codel cell is like pressing 'Enter' on a calculator once you've typed in an expression; it computes all of the expressions contained within the cell.\n",
    "Here are the steps to running a code cell:\n",
    "1.\tClick on the cell.\n",
    "a.\tYou will notice that there is a green box around the code cell you have clicked on\n",
    "2.\tYou can do one of the following to run the cell:\n",
    "<br />\n",
    "•\tpress Shift + Enter\n",
    "<br />\n",
    "•\tclick Cell -> Run Cells in the toolbar at the top of the screen.\n",
    "3.\tYou will see an asterisk (*) next to the code cell you are trying to run. This means that the code is running and will be done momentarily.\n",
    "\n",
    "Practice Running the code cells below"
   ]
  },
  {
   "cell_type": "code",
   "execution_count": 12,
   "metadata": {},
   "outputs": [
    {
     "name": "stdout",
     "output_type": "stream",
     "text": [
      "Hello World\n"
     ]
    }
   ],
   "source": [
    "print(\"Hello World\")"
   ]
  },
  {
   "cell_type": "markdown",
   "metadata": {},
   "source": [
    "You should see \"Hello World\" printed below the code cell.In general, the output of running a cell is shown in the line immediately after it. \n",
    "<br />\n",
    "Notice that markdown cells have no output."
   ]
  },
  {
   "cell_type": "markdown",
   "metadata": {},
   "source": [
    "# Mousey Simulation"
   ]
  },
  {
   "cell_type": "markdown",
   "metadata": {},
   "source": [
    "Please run the following code cells.\n",
    "After running the bottom two code cells, if you are unable to see the Grey and White Screen for the Simulation, Refresh your page and releoad the bottom two code cells."
   ]
  },
  {
   "cell_type": "code",
   "execution_count": 14,
   "metadata": {},
   "outputs": [],
   "source": [
    "%%capture\n",
    "!pip install ipympl\n",
    "\n",
    "%matplotlib widget\n",
    "import ipywidgets as widgets\n",
    "import matplotlib.pyplot as plt\n",
    "import numpy as np\n",
    "from enum import Enum\n",
    "import time\n",
    "import multiprocessing"
   ]
  },
  {
   "cell_type": "code",
   "execution_count": 15,
   "metadata": {},
   "outputs": [
    {
     "data": {
      "application/vnd.jupyter.widget-view+json": {
       "model_id": "123f2442ebfa4ea2bb35de78ac0513d6",
       "version_major": 2,
       "version_minor": 0
      },
      "text/plain": [
       "HBox(children=(VBox(children=(Output(), HBox(children=(VBox(children=(Label(value='Before Selection', layout=L…"
      ]
     },
     "metadata": {},
     "output_type": "display_data"
    }
   ],
   "source": [
    "output = widgets.Output()\n",
    "\n",
    "migration_const = 1.0 / (1.0 - np.exp(-1.0))\n",
    "    \n",
    "class Geno(Enum):\n",
    "    dd = 0\n",
    "    Dd = 1\n",
    "    DD = 2\n",
    "\n",
    "def geno_to_pheno(geno):\n",
    "    pheno = np.array(geno)\n",
    "    pheno[geno == Geno.dd] = 'white'\n",
    "    pheno[geno != Geno.dd] = 'black'\n",
    "    return pheno\n",
    "\n",
    "def report_geno_before_counts(geno, lava):\n",
    "    sand_before_DD.value = sum(geno[~lava] == Geno.DD)\n",
    "    sand_before_Dd.value = sum(geno[~lava] == Geno.Dd)\n",
    "    sand_before_dd.value = sum(geno[~lava] == Geno.dd)\n",
    "    lava_before_DD.value = sum(geno[lava] == Geno.DD)\n",
    "    lava_before_Dd.value = sum(geno[lava] == Geno.Dd)\n",
    "    lava_before_dd.value = sum(geno[lava] == Geno.dd)\n",
    "\n",
    "def report_geno_after_counts_and_get_geno_dist(geno, lava, mortality_mask, settings):\n",
    "    sand_after_DD.value = sum((geno[~lava] == Geno.DD) & ~mortality_mask[~lava])\n",
    "    sand_after_Dd.value = sum((geno[~lava] == Geno.Dd) & ~mortality_mask[~lava])\n",
    "    sand_after_dd.value = sum((geno[~lava] == Geno.dd) & ~mortality_mask[~lava])\n",
    "    lava_after_DD.value = sum((geno[lava] == Geno.DD) & ~mortality_mask[lava])\n",
    "    lava_after_Dd.value = sum((geno[lava] == Geno.Dd) & ~mortality_mask[lava])\n",
    "    lava_after_dd.value = sum((geno[lava] == Geno.dd) & ~mortality_mask[lava])\n",
    "    m = settings['mutation_rate']\n",
    "    def apply_mutation_to_dist(p):\n",
    "        nonlocal m\n",
    "        return p * (1-m) + (1-p) * m\n",
    "    s = settings['num_mice'] - (2*settings['mortality_count'])\n",
    "    sand_D = apply_mutation_to_dist((2 * sand_after_DD.value + sand_after_Dd.value) / s)\n",
    "    sand_d = apply_mutation_to_dist((2 * sand_after_dd.value + sand_after_Dd.value) / s)\n",
    "    lava_D = apply_mutation_to_dist((2 * lava_after_DD.value + lava_after_Dd.value) / s)\n",
    "    lava_d = apply_mutation_to_dist((2 * lava_after_dd.value + lava_after_Dd.value) / s)\n",
    "    def hardy_weinberg(D, d):\n",
    "        return (d ** 2, 2 * D * d, D ** 2)\n",
    "    return (hardy_weinberg(sand_D, sand_d), hardy_weinberg(lava_D, lava_d))\n",
    "    \n",
    "def iterate_generation(x, y, geno, pheno, settings):\n",
    "    # MOVEMENT\n",
    "    lava = x > 0.5\n",
    "    x += (np.random.random(settings['num_mice']) >= 0.95) * (np.random.random(settings['num_mice']) - 0.5) * 0.1\n",
    "    y += (np.random.random(settings['num_mice']) >= 0.95) * (np.random.random(settings['num_mice']) - 0.5) * 0.1\n",
    "    # Keep within bounding box\n",
    "    x += (x < 0) * (~lava) * 2 * (0 - x)\n",
    "    x -= (x > 0.5) * (~lava) * 2 * (x - 0.5)\n",
    "    x += (x < 0.5) * (lava) * 2 * (0.5 - x)\n",
    "    x -= (x > 1) * (lava) * 2 * (x - 1)\n",
    "    y += (y < 0) * 2 * (0 - y)\n",
    "    y -= (y > 1) * 2 * (y - 1)\n",
    "    \n",
    "    # MIGRATION\n",
    "    # Choose indices to migrate + create mask of mice to flip\n",
    "    migration_mask = np.zeros(x.shape)\n",
    "    migration_mask[np.random.choice(np.nonzero(lava)[0], settings['migration_count'], replace=False)] = 1\n",
    "    migration_mask[np.random.choice(np.nonzero(~lava)[0], settings['migration_count'], replace=False)] = 1\n",
    "    x += (migration_mask) * 2 * (0.5 - x)\n",
    "    \n",
    "    # REPORT GENOTYPES\n",
    "    report_geno_before_counts(geno, lava)\n",
    "    \n",
    "    # MORTALITY\n",
    "    # Choose indices to die + create mask of mice to progenate\n",
    "    white = pheno == 'white'\n",
    "    mortality_mask = np.zeros(x.shape).astype(bool)\n",
    "    # Choosing mice to kill\n",
    "    p = lava.astype(float) + (white & lava) * ((1.0 / (1.0 - settings['selection_intensity'])) - 1)\n",
    "    mortality_mask[np.random.choice(range(settings['num_mice']), settings['mortality_count'], replace=False, p=p/np.sum(p))] = True\n",
    "    p = (~lava).astype(float) + (~white & ~lava) * ((1.0 / (1.0 - settings['selection_intensity'])) - 1)\n",
    "    mortality_mask[np.random.choice(range(settings['num_mice']), settings['mortality_count'], replace=False, p=p/np.sum(p))] = True\n",
    "    \n",
    "    # REPORT GENOTYPES\n",
    "    geno_dist = report_geno_after_counts_and_get_geno_dist(geno, lava, mortality_mask, settings)\n",
    "    \n",
    "    # REPRODUCTION & MUTATION\n",
    "    geno[(~lava & mortality_mask)] = np.random.choice([Geno.dd, Geno.Dd, Geno.DD], settings['mortality_count'], p=geno_dist[0])\n",
    "    geno[(lava & mortality_mask)] = np.random.choice([Geno.dd, Geno.Dd, Geno.DD], settings['mortality_count'], p=geno_dist[1])\n",
    "    \n",
    "    return x, y, geno\n",
    "    \n",
    "with output:\n",
    "    plt.rcParams[\"figure.figsize\"] = (6, 4)\n",
    "    plt.rcParams[\"figure.constrained_layout.use\"] = True\n",
    "    fig = plt.figure()\n",
    "    plt.xlim(0, 1)\n",
    "    plt.ylim(0, 1)\n",
    "    plt.axvspan(0, 0.5, facecolor='grey', alpha=0.7, zorder=1)\n",
    "    plt.axvspan(0.5, 1, facecolor='black', alpha=0.7, zorder=1)\n",
    "    plt.axis('off')\n",
    "    scat = plt.scatter([], [])\n",
    "    fig.canvas.draw()\n",
    "\n",
    "settings_layout=widgets.Layout(width='50%')\n",
    "speed_slider = widgets.FloatSlider(value=0.25, min=0.25, max=2, readout=False, layout=settings_layout)\n",
    "num_mice_in = widgets.BoundedIntText(value=1000, min=0, max=10000, layout=settings_layout)\n",
    "mutation_rate_in = widgets.BoundedFloatText(value=0.001, min=0, max=1, layout=settings_layout)\n",
    "selection_intensity_in = widgets.BoundedFloatText(value=0.05, min=0, max=1, layout=settings_layout)\n",
    "mortality_rate_in = widgets.BoundedFloatText(value=0.25, min=0, max=1, layout=settings_layout)\n",
    "migration_rate_in = widgets.BoundedFloatText(value=0, min=0, max=1, layout=settings_layout)\n",
    "labels = ['Simulation Speed', '# of Mice', 'Mutation Rate', 'Selection Intensity', 'Mortality Rate', 'Migration Rate']\n",
    "settings_labels = widgets.VBox([widgets.Label(value=label) for label in labels])\n",
    "settings = widgets.VBox([speed_slider, num_mice_in, mutation_rate_in, selection_intensity_in, mortality_rate_in, migration_rate_in])\n",
    "simulate_button = widgets.Button(description='Simulate', layout=widgets.Layout(width='99%'))\n",
    "reset_button = widgets.Button(description='Reset', layout=widgets.Layout(width='99%'))\n",
    "clear_button = widgets.Button(description='Clear', layout=widgets.Layout(width='99%'))\n",
    "debug = widgets.Textarea(layout=widgets.Layout(height='50%', width='99%'), value='') # TODO: Remove this when done with dev\n",
    "control_bar = widgets.VBox([widgets.HBox([settings_labels, settings]), simulate_button, clear_button, reset_button, debug])\n",
    "\n",
    "geno_layout=widgets.Layout(width='80%')\n",
    "sand_before_DD = widgets.IntText(description='DD', value=0, layout=geno_layout)\n",
    "sand_before_Dd = widgets.IntText(description='Dd', value=0, layout=geno_layout)\n",
    "sand_before_dd = widgets.IntText(description='dd', value=0, layout=geno_layout)\n",
    "sand_after_DD = widgets.IntText(description='DD', value=0, layout=geno_layout)\n",
    "sand_after_Dd = widgets.IntText(description='Dd', value=0, layout=geno_layout)\n",
    "sand_after_dd = widgets.IntText(description='dd', value=0, layout=geno_layout)\n",
    "lava_before_DD = widgets.IntText(description='DD', value=0, layout=geno_layout)\n",
    "lava_before_Dd = widgets.IntText(description='Dd', value=0, layout=geno_layout)\n",
    "lava_before_dd = widgets.IntText(description='dd', value=0, layout=geno_layout)\n",
    "lava_after_DD = widgets.IntText(description='DD', value=0, layout=geno_layout)\n",
    "lava_after_Dd = widgets.IntText(description='Dd', value=0, layout=geno_layout)\n",
    "lava_after_dd = widgets.IntText(description='dd', value=0, layout=geno_layout)\n",
    "center_layout = widgets.Layout(display=\"flex\", justify_content=\"center\")\n",
    "sand_before = widgets.VBox([widgets.Label(value='Before Selection', layout=center_layout), sand_before_DD, sand_before_Dd, sand_before_dd])\n",
    "sand_after = widgets.VBox([widgets.Label(value='After Selection', layout=center_layout), sand_after_DD, sand_after_Dd, sand_after_dd])\n",
    "lava_before = widgets.VBox([widgets.Label(value='Before Selection', layout=center_layout), lava_before_DD, lava_before_Dd, lava_before_dd])\n",
    "lava_after = widgets.VBox([widgets.Label(value='After Selection', layout=center_layout), lava_after_DD, lava_after_Dd, lava_after_dd])\n",
    "geno_counts = widgets.HBox([sand_before, sand_after, lava_before, lava_after])\n",
    "\n",
    "def stop_simulation():\n",
    "    if 'simulation_process' in globals():\n",
    "        simulation_process.terminate()\n",
    "    \n",
    "@simulate_button.on_click\n",
    "def start_simulation(_):\n",
    "    def simulation_work(scat, plt, fig):\n",
    "#         def cleanup(*args):\n",
    "#             clear()\n",
    "#             plt.clf()\n",
    "#             fig.canvas.draw()\n",
    "#             plt.rcParams[\"figure.figsize\"] = (6, 4)\n",
    "#             plt.rcParams[\"figure.constrained_layout.use\"] = True\n",
    "#             plt.xlim(0, 1)\n",
    "#             plt.ylim(0, 1)\n",
    "#             plt.axvspan(0, 0.5, facecolor='grey', alpha=0.7, zorder=1)\n",
    "#             plt.axvspan(0.5, 1, facecolor='black', alpha=0.7, zorder=1)\n",
    "#             plt.axis('off')\n",
    "#             scat = plt.scatter([], [])\n",
    "#             fig.canvas.draw()\n",
    "#             sys.exit(0)\n",
    "#         signal(SIGTERM, cleanup)\n",
    "        settings = {\n",
    "            \"speed\": speed_slider.value,\n",
    "            \"num_mice\": num_mice_in.value,\n",
    "            \"mutation_rate\": mutation_rate_in.value,\n",
    "            \"selection_intensity\": selection_intensity_in.value,\n",
    "            \"mortality_rate\": mortality_rate_in.value,\n",
    "            \"migration_rate\": migration_rate_in.value,\n",
    "            \"migration_count\": int((migration_rate_in.value * num_mice_in.value) / 2),\n",
    "            \"mortality_count\": int((mortality_rate_in.value * num_mice_in.value) / 2)\n",
    "        }\n",
    "        x = np.concatenate([np.random.random(settings['num_mice'] // 2) * 0.5, (np.random.random(settings['num_mice'] // 2) * 0.5) + 0.5])\n",
    "        y = np.random.random(settings['num_mice'])\n",
    "#         geno = np.random.choice([Geno.dd, Geno.Dd, Geno.DD], settings['num_mice'], p=[0.2, 0.3, 0.5])\n",
    "        geno = np.array([Geno.dd] * settings['num_mice']) # 0 = dd, 1 = Dd, 2 = DD\n",
    "        pheno = geno_to_pheno(geno)\n",
    "        scat = plt.scatter(x, y, c=pheno, s=10, zorder=2)\n",
    "        scat.set_offsets(np.array((x, y)).T)\n",
    "        for _ in range(100):\n",
    "            print() # I have no idea why but the simulation only works when you print.\n",
    "            x, y, geno = iterate_generation(x, y, geno, pheno, settings)\n",
    "            pheno = geno_to_pheno(geno)\n",
    "            scat.set_offsets(np.array((x, y)).T)\n",
    "            scat.set_color(pheno)\n",
    "            fig.canvas.draw()\n",
    "            time.sleep(speed_slider.value) # Check slider to dynamically modify speed\n",
    "        fig.clear()\n",
    "        fig.canvas.draw()\n",
    "        \n",
    "    global simulation_process # We only run one simulation process concurrently\n",
    "    global scat, plt, fig\n",
    "    clear_simulation()\n",
    "    simulation_process = multiprocessing.Process(target=simulation_work, args=(scat, plt, fig))\n",
    "    simulation_process.start()\n",
    "\n",
    "def clear():\n",
    "    plt.clf()\n",
    "    fig.canvas.draw()\n",
    "    plt.rcParams[\"figure.figsize\"] = (6, 4)\n",
    "    plt.rcParams[\"figure.constrained_layout.use\"] = True\n",
    "    plt.xlim(0, 1)\n",
    "    plt.ylim(0, 1)\n",
    "    plt.axvspan(0, 0.5, facecolor='grey', alpha=0.7, zorder=1)\n",
    "    plt.axvspan(0.5, 1, facecolor='black', alpha=0.7, zorder=1)\n",
    "    plt.axis('off')\n",
    "    scat = plt.scatter([], [])\n",
    "    fig.canvas.draw()\n",
    "    \n",
    "# This is necessary because the onclick decorator sets the variable to None (so other functions can't call it)\n",
    "def clear_simulation():\n",
    "    stop_simulation()\n",
    "    clear()\n",
    "    \n",
    "@clear_button.on_click\n",
    "def clear_simulation_onclick(_):\n",
    "    clear_simulation()\n",
    "    \n",
    "@reset_button.on_click\n",
    "def reset_simulation(_):\n",
    "    stop_simulation()\n",
    "\n",
    "left_layout = widgets.Layout(width='70%')\n",
    "widgets.HBox([widgets.VBox([output, geno_counts], layout=left_layout), control_bar])"
   ]
  },
  {
   "cell_type": "markdown",
   "metadata": {},
   "source": [
    "## Questions"
   ]
  },
  {
   "cell_type": "markdown",
   "metadata": {},
   "source": [
    "Question #1"
   ]
  },
  {
   "cell_type": "markdown",
   "metadata": {},
   "source": [
    "Response #1"
   ]
  },
  {
   "cell_type": "markdown",
   "metadata": {},
   "source": [
    "Question #2"
   ]
  },
  {
   "cell_type": "markdown",
   "metadata": {},
   "source": [
    "Response #2"
   ]
  },
  {
   "cell_type": "markdown",
   "metadata": {},
   "source": [
    "## Submission"
   ]
  },
  {
   "cell_type": "markdown",
   "metadata": {},
   "source": [
    "To generate a pdf for submission:"
   ]
  },
  {
   "cell_type": "markdown",
   "metadata": {},
   "source": [
    "Option 2:\n",
    "* On the top left of the Jupyter Notebook Click \"File\" ---> \"Print Preview\". It will generate a new window.\n",
    "* Right Click --> Print. Change to appropriate Destinate and File name\n",
    "\n",
    "<br />\n",
    "Option 1:\n",
    "\n",
    "* Press Ctrl + P \n",
    "* Change Destination to Save as PDF\n",
    "* Press Save, Generate a File name and Select File Location"
   ]
  },
  {
   "cell_type": "markdown",
   "metadata": {},
   "source": [
    "## Data Science Opportunities"
   ]
  },
  {
   "cell_type": "markdown",
   "metadata": {},
   "source": [
    "If you enjoyed this notebook and would like to continue your journey with Biology and Data Science check out the following courses: \n",
    "<br />\n",
    "Data 8: The Foundations of Data Science\n",
    "<br />\n",
    "MCB 88: Immunotherapy of Cancer\n",
    "<br />\n",
    "PSYCH 88: Data Science for Cognitive Neuroscience\n",
    "<br />\n",
    "COGSCI 88: Data Science & The Mind\n",
    "<br />\n",
    "\n",
    "\n",
    "If you are interested in joining the Data Science Education Program check out our website for Student Opportunities!\n",
    "https://data.berkeley.edu/academics/resources/student-opportunities\n",
    "\n",
    "\n",
    "If you are interested in more Data Science courses at Berkeley Check out this website!\n",
    "Data Science Offerings at Berkeley: https://data.berkeley.edu/academics/undergraduate-programs/data-science-offerings\n"
   ]
  },
  {
   "cell_type": "code",
   "execution_count": null,
   "metadata": {},
   "outputs": [],
   "source": []
  }
 ],
 "metadata": {
  "kernelspec": {
   "display_name": "Python 3",
   "language": "python",
   "name": "python3"
  },
  "language_info": {
   "codemirror_mode": {
    "name": "ipython",
    "version": 3
   },
   "file_extension": ".py",
   "mimetype": "text/x-python",
   "name": "python",
   "nbconvert_exporter": "python",
   "pygments_lexer": "ipython3",
   "version": "3.7.6"
  }
 },
 "nbformat": 4,
 "nbformat_minor": 4
}
