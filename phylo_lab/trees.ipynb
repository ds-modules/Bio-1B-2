{
 "cells": [
  {
   "cell_type": "code",
   "execution_count": 61,
   "metadata": {},
   "outputs": [],
   "source": [
    "import pandas as pd, numpy as np, seaborn as sns, matplotlib.pyplot as plt, plotly.express as px\n",
    "%matplotlib inline\n",
    "files = {\n",
    "    \"apes\" : \"data/Apes_CytB.fasta\",\n",
    "    \"morphology\" : \"data/PrimatePhylogenetics_MorphologicalData.fasta\",\n",
    "    \"epsilon\" : \"data/Primate_Epsilon.fasta\"\n",
    "}\n",
    "from Bio import Phylo\n",
    "from Bio.Phylo.TreeConstruction import DistanceCalculator\n",
    "from Bio.Phylo.TreeConstruction import DistanceTreeConstructor\n",
    "from Bio import AlignIO"
   ]
  },
  {
   "cell_type": "code",
   "execution_count": 65,
   "metadata": {},
   "outputs": [],
   "source": [
    "def generate_trees(data_key, outgroup, calc_type = \"identity\", verbosity = 0, tree_type = \"nj\"):\n",
    "    files = {\n",
    "        \"apes\" : \"data/Apes_CytB.fasta\",\n",
    "        \"morphology\" : \"data/PrimatePhylogenetics_MorphologicalData.fasta\",\n",
    "        \"epsilon\" : \"data/Primate_Epsilon_padded.fasta\"\n",
    "    }\n",
    "    \n",
    "    data = files[data_key]\n",
    "    align = AlignIO.read(data, \"fasta\")\n",
    "    if verbosity > 1:\n",
    "        print(align)\n",
    "    calculator = DistanceCalculator(calc_type)\n",
    "    distance_matrix = calculator.get_distance(align)\n",
    "    if verbosity > 0:\n",
    "        print(distance_matrix)\n",
    "    constructor = DistanceTreeConstructor(calculator)\n",
    "    NJ_tree = constructor.nj(distance_matrix)\n",
    "    NJ_tree.root_with_outgroup({\"name\" : outgroup})\n",
    "    UGMA_tree = constructor.upgma(distance_matrix)\n",
    "    UGMA_tree.root_with_outgroup({\"name\" : outgroup})\n",
    "    if tree_type == \"nj\":\n",
    "        print(\"NJ Tree\")\n",
    "        Phylo.draw_ascii(NJ_tree)\n",
    "    elif tree_type == \"ugma\":\n",
    "        print(\"UGMA Tree\")\n",
    "        Phylo.draw_ascii(UGMA_tree)\n",
    "    elif tree_type == \"both\":\n",
    "        print(\"NJ Tree\")\n",
    "        Phylo.draw_ascii(NJ_tree)\n",
    "        print(\"UGMA Tree\")\n",
    "        Phylo.draw_ascii(UGMA_tree)"
   ]
  },
  {
   "cell_type": "code",
   "execution_count": 67,
   "metadata": {},
   "outputs": [
    {
     "name": "stdout",
     "output_type": "stream",
     "text": [
      "NJ Tree\n",
      "                                              ___________ Chimpanzee\n",
      "                                            ,|\n",
      "                                           ,||___________ Human\n",
      "                                           ||\n",
      "                                       ____||____________ Gorilla\n",
      "                                      |    |\n",
      "                                 _____|    |______________ Gibbon\n",
      "                                |     |\n",
      "                              __|     |___________________ Orangutan\n",
      "                             |  |\n",
      "                             |  |_________________________ Galago\n",
      "  ___________________________|  |\n",
      " |                           |  |________________________ Lemur\n",
      " |                           |\n",
      "_|                           |  _____________________________ Marmoset\n",
      " |                           |_|\n",
      " |                             |__________________________________ Tarsier\n",
      " |\n",
      " | Goat\n",
      "\n",
      "UGMA Tree\n",
      "                                __________________________________ Tarsier\n",
      "                              _|\n",
      "                             | |______________________________ Marmoset\n",
      "                             |\n",
      "                             |          __________________ Orangutan\n",
      "  ___________________________|   ______|\n",
      " |                           |  |      |     _____________ Gibbon\n",
      " |                           |  |      |____|\n",
      " |                           |  |           | ____________ Gorilla\n",
      " |                           |  |           ||\n",
      " |                           |__|            |____________ Human\n",
      "_|                              |            |\n",
      " |                              |            |____________ Chimpanzee\n",
      " |                              |\n",
      " |                              | ________________________ Lemur\n",
      " |                              ||\n",
      " |                               |________________________ Galago\n",
      " |\n",
      " | Goat\n",
      "\n"
     ]
    }
   ],
   "source": [
    "generate_trees(\"epsilon\", \"Goat\", tree_type = \"both\", calc_type=\"blosum62\")"
   ]
  },
  {
   "cell_type": "code",
   "execution_count": null,
   "metadata": {},
   "outputs": [],
   "source": []
  }
 ],
 "metadata": {
  "kernelspec": {
   "display_name": "Python 3",
   "language": "python",
   "name": "python3"
  },
  "language_info": {
   "codemirror_mode": {
    "name": "ipython",
    "version": 3
   },
   "file_extension": ".py",
   "mimetype": "text/x-python",
   "name": "python",
   "nbconvert_exporter": "python",
   "pygments_lexer": "ipython3",
   "version": "3.11.2"
  },
  "orig_nbformat": 4
 },
 "nbformat": 4,
 "nbformat_minor": 2
}
