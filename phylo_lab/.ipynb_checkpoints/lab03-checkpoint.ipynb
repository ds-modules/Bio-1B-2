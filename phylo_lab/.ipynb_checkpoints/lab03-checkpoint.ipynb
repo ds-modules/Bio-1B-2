{
 "cells": [
  {
   "cell_type": "markdown",
   "id": "3893926d-5f20-450b-a63e-2e3783f2decf",
   "metadata": {},
   "source": [
    "# BIO 1B Lab03: Phylogenetics of Primates\n",
    "\n"
   ]
  },
  {
   "cell_type": "markdown",
   "id": "d9cde4b5-86cf-44c8-9fa2-a216ae15137f",
   "metadata": {},
   "source": [
    "## Things to do before lab:\n",
    "\n",
    "1. Complete the online activity: Evolutionary Evidence (see bCourses Modules)\n",
    "2. **Read** this Introduction before coming to lab. You will habe access to this Introduction in lab on the computer.\n",
    "3. Make sure you are **familiar with the terminology** presented in the glossary. Familiarity with these terms will make this lab more interesting and easier to understand.\n",
    "4. Watch \"True Facts About the Tarsier\" (see bCourses Modules)"
   ]
  },
  {
   "cell_type": "markdown",
   "id": "1127cd0b-f90b-4688-ae15-cd5717411d02",
   "metadata": {},
   "source": [
    "## Part I — Mammal Order: Primates"
   ]
  },
  {
   "cell_type": "markdown",
   "id": "8735a209-7c00-470e-8684-0b67fdfa2824",
   "metadata": {},
   "source": [
    "As you saw in the pre-lab video, tarsiers are weird. They have long been a puzzle to\n",
    "evolutionary biologists, because they are obviously primates, but what kind of primate are\n",
    "they? Humans are primates, too. Is the tarsier a close relative? The goal of this week’s lab is\n",
    "to determine which group of primates the tarsier is most closely related to using\n",
    "phylogenetic methods to reconstruct their most likely evolutionary history.\n",
    "\n",
    "<center> <img src=\"data/fig1.1.png\"> <center\\>\n",
    "<center> Figure 1.1: A tarsier <center\\>"
   ]
  },
  {
   "cell_type": "markdown",
   "id": "bdecb791-a941-44af-a473-eb197ce536f9",
   "metadata": {},
   "source": [
    " Mammals are a group of vertebrates that can be distinguished by different characters, such\n",
    "as mammary glands, fur, and three middle ear bones. A primate is classified as one of the\n",
    "Orders belonging to the Class Mammalia. All primates share distinctive similarities:\n",
    "opposable thumbs, flattened faces, rounded crania, and flexible joints that allow for a larger\n",
    "range of motion in the arms and legs than in other mammals. Primates are also heterodont,\n",
    "meaning they have teeth differentiated for distinct functions, such as molars for crushing\n",
    "and grinding, incisors for nipping or grooming, and canines for biting or intrasexual\n",
    "display. Most mammals have nipples, either in rows along their bodies (like a cat nursing\n",
    "her kittens), or on an udder at the back end (like a cow nursing a calf). Primates, however,\n",
    "have pectoral nipples, a feature shared only with the elephants (Proboscidea), which nurse\n",
    "their young under the forelegs, and the bats (Chiroptera), which wrap the young in their\n",
    "wings and nurse upside down!"
   ]
  },
  {
   "cell_type": "markdown",
   "id": "2700f804-b03d-4dcd-83f9-08665c213161",
   "metadata": {},
   "source": [
    "### Primate clades\n",
    "\n",
    "What are the different kinds of Primates? Traditionally, the Primates have been divided into four major groups:\n",
    "1. **The lemurs and lorises**: These primates are restricted mostly to Madagascar and isolated pockets of Southeast Asia\n",
    "\n",
    "<center> <img src=\"data/fig1.2.png\"> <center\\>\n",
    "<center> Figure 1.2: Lemurs, like the ringtail lemur and the sifaka, are found only on the African island of\n",
    "Madagascar. Lorises can be found in rainforest habitats in India, Sri Lanka, and some isolated populations\n",
    "in Southeast Asia. Some loris species secrete a venom that they rub into their fur to deter predators. <center\\>\n"
   ]
  },
  {
   "cell_type": "markdown",
   "id": "899bc4fd-17f3-4696-833f-716a22bbc29f",
   "metadata": {},
   "source": [
    "2. **The Catarrhines**: These primates live in Africa and Asia, and are considered\n",
    "monkeys. The name Catarrhine means “hooked” or “split-nose”, and refers to their\n",
    "downward-pointing nostrils. These monkeys are generally terrestrial, living on the\n",
    "ground in large troops. They walk on flat palms of all four feet. Males often have\n",
    "exaggerated secondary sexual characters, like large canine teeth used in dominance\n",
    "displays, colorful faces, and thick shaggy manes to protect them in combat with\n",
    "other males. This group includes baboons, macaques and mandrills.\n",
    "\n",
    "<center> <img src=\"data/fig1.3.png\"> <center\\>\n",
    "<center> Figure 1.3. Catarrhines, like baboons, are primarily terrestrial and walk on their flat palms. Male mandrills\n",
    "have brightly colored faces and large canine teeth to display their status in the troop. Found in Africa and\n",
    "Asia, these monkeys have downward-pointing nostrils. <center\\>\n",
    "\n"
   ]
  },
  {
   "cell_type": "markdown",
   "id": "b3d0adaa-721a-413b-ad09-429c0d0c825b",
   "metadata": {},
   "source": [
    "3. **The Platyrrhines**: These primates are also considered monkeys. The name\n",
    "Platyrrhine means “flat-nose”, and refers to their nostrils flaring out to either side.\n",
    "These monkeys are found in Central and South America, are arboreal (live in trees),\n",
    "and have prehensile tails (tails that can act like a fifth limb, grasping branches).\n",
    "They eat primarily leaves and fruits, and live in smaller groups. Squirrel monkeys\n",
    "and howler monkeys are Platyrrhines.\n",
    "\n",
    "<center> <img src=\"data/fig1.4.png\"> <center\\>\n",
    "<center> Figure 1.4. Platyrrhines, like the spider monkey, are arboreal and have prehensile tails that can grasp branches like a\n",
    "fifth limb. The nose in all platyrrhines, like the squirrel monkey, have outwardly-flared nostrils. These monkeys are\n",
    "found in Central and South America. <center\\>\n",
    "\n"
   ]
  },
  {
   "cell_type": "markdown",
   "id": "5ef21c05-0081-4620-95ea-014956ca1c53",
   "metadata": {},
   "source": [
    "4. **The Apes**: These primates are not monkeys. Apes include us, Homo sapiens. We are\n",
    "the only truly bipedal ape, walking upright on our hind limbs. The other apes have\n",
    "large body sizes, and use the knuckles of their hands to support their weight when\n",
    "walking, rather than using their palms. Most non-human apes are critically\n",
    "endangered due to habitat loss and poaching. Gorillas, chimpanzees, orangutans and\n",
    "siamangs (gibbons) are all apes.\n",
    "\n",
    "<center> <img src=\"data/fig1.5.png\"> <center\\>\n",
    "<center> Figure 1.5. Apes walk on their foreleg knuckles, rather than on flat palms. All primates have “thumbs” adapted to\n",
    "grasping tree limbs. The hands of the other apes are similar to our own. <center\\>"
   ]
  },
  {
   "cell_type": "markdown",
   "id": "5de352db-26e9-4cd7-8dbe-9ffbf1016d69",
   "metadata": {},
   "source": [
    "Where does the tarsier fit into this scheme? Tarsiers are so odd-looking that it seems like\n",
    "they should be closely related to lemurs or lorises. Like lemurs, tarsiers can leap between\n",
    "trees, and are nocturnal, like lorises, with enormous eyes that help them see in the dark.\n",
    "\n",
    "But there’s a problem with grouping organisms\n",
    "just by similarity in appearance or behavior.\n",
    "Because habitats select for similar adaptations in\n",
    "very different organisms (an example of\n",
    "**convergent evolution**), organisms that *look*\n",
    "alike may *not* be closely related at all.\n",
    "\n",
    "Early taxonomists fell into this trap, grouping\n",
    "armadillos (a mammal) with turtles (a reptile).\n",
    "Other early naturalists grouped orcas (a toothed\n",
    "whale) with sharks (which are fishes), and\n",
    "grouped bats (flying mammals) with birds!\n",
    "\n",
    "<center> <img src=\"data/fig1.6.png\"> <center\\>\n",
    "<center> Figure 1.6. Tarsiers have the largest eyes relative to their body size of any mammal. <center\\>\n",
    "\n"
   ]
  },
  {
   "cell_type": "markdown",
   "id": "b4ccad2e-0e05-4a0d-b0e7-c6056df009bd",
   "metadata": {},
   "source": [
    "## Part II — Phylogenetics\n",
    "Check out this great resource for understanding phylogenetics: *[Evolutionary Trees – A Primer](https://evolution.berkeley.edu/the-tree-room/evolutionary-trees-a-primer/)*\n",
    "\n",
    "\n",
    "Phylogenetics is a better way to determine how organisms are related to one another,\n",
    "because it is based on the evolutionary processes that gave rise to different taxa. (A note\n",
    "here, **taxon** simply refers to a group of related organisms, and the plural form is **taxa**.\n",
    "Taxon/taxa is a generic term that can be used to refer to species, genera, families, or any\n",
    "other level of biological classification). All living things are related by common ancestry.\n",
    "Therefore, any group of taxa that we could assemble shares an evolutionary history. A\n",
    "**phylogeny** is a hypothesis about the evolutionary history of a group of taxa.\n",
    "\n",
    "\n",
    "We can use many different kinds of evidence to help us answer questions about how\n",
    "different organisms evolved. In today’s lab about tarsiers, we will use two types of data:\n",
    "\n",
    "1. **morphological data:** anatomical characters, gathered by comparing homologous structures such as bones, teeth, and other tissues from different taxa. Homologous tructures are structures inherited from a common ancestor.\n",
    "2. **molecular data:** gathered by sequencing the homologous gene in DNA from different taxa. We will be using a gene that codes for one of the subunits of the hemoglobin molecule.\n",
    "\n",
    "Although we know that any group of taxa shares a true evolutionary history, we can never\n",
    "reconstruct the past with total certainty (this is especially true if we are dealing with\n",
    "events that took place millions of years ago). Therefore, although we have very effective\n",
    "methods for determining phylogenies, we can never know the phylogeny of a group of taxa\n",
    "with total certainty. Our determination of the phylogeny of a group of taxa serves as a\n",
    "hypothesis, subject to revision if additional evidence comes to light.\n",
    "\n",
    "Hypotheses of phylogenetic relationships are represented by **tree** diagrams—the\n",
    "branching patterns reflect a hypothesis of how different taxa are related to one another.\n",
    "The tree diagrams are also called **cladograms**. Speciation produces new branches on the\n",
    "tree of life, while extinction removes branches from it. The cladograms group taxa by\n",
    "common ancestry, from the smallest group of two **sister taxa**, to larger groups, sometimes\n",
    "composed of thousands of species. Biologists attempt to group organisms into **clades**,\n",
    "lineages that contain *a common ancestor and all of its descendants*. Clades are also called\n",
    "**monophyletic groups**.\n",
    "\n",
    "\n",
    "Smaller monophyletic groups can be subsets of larger monophyletic groups. We refer to\n",
    "smaller groups contained within larger groups as being **nested** within the larger group. For\n",
    "example, as mentioned above, birds are a monophyletic group nested within the larger\n",
    "monophyletic group called reptiles. Reptiles are a monophyletic group nested within a\n",
    "larger monophyletic group called vertebrates, and so on.\n",
    "\n",
    "<center> <img src=\"data/fig2.1.png\"> <center\\>\n",
    "    \n",
    "<center> Figure 2.1. Example of a phylogenetic tree and challenges in reconstructing evolutionary histories.<center\\>"
   ]
  },
  {
   "cell_type": "markdown",
   "id": "cf53082c-b2d4-4f34-b72e-6ede2d2ae7f4",
   "metadata": {},
   "source": [
    "The two taxa that branch from a common\n",
    "ancestor are sister taxa. Ancestors are\n",
    "represented on evolutionary trees as **nodes**.\n",
    "Therefore, each node **identifies** a pair of sister\n",
    "taxa, which are each other’s closest relatives.\n",
    "Whether other taxa are nested within a sister\n",
    "taxon (like smaller boxes fitted inside larger\n",
    "boxes) does not change the sister relationship.\n",
    "For example, in the cladogram shown in Figure\n",
    "2.2, three nodes are numbered and seven extant\n",
    "(living) taxa are labeled with letters. The sister\n",
    "taxa identified by node 1 are B and C. The sister\n",
    "taxa identified by node 2 are A and B+C.\n",
    "\n",
    "\n",
    "<center> <img src=\"data/fig2.2.png\"> <center\\>\n",
    "    \n",
    "<center> Figure 2.2 Cladogram showing the evolutionary relationships among\n",
    "seven hypothetical taxa (represented by letters A–G). Three nodes are numbered.<center\\>\n",
    "\n"
   ]
  },
  {
   "cell_type": "markdown",
   "id": "57bcf598-eaec-4534-ba77-4a10805c8460",
   "metadata": {},
   "source": [
    "When relationships are well-understood, the branching pattern of a tree is assumed to be\n",
    "**bifurcating** (*two* branches diverge from one another each time the tree branches).\n",
    "However, when we are uncertain about the evolutionary relationships between groups, we collapse the branches into a **polytomy**, where more than two branches originate from a\n",
    "single point (or, \"**node**”).\n",
    "\n",
    "\n",
    "Returning to the topic of phylogenetic groups, if you were to construct a phylogenetic\n",
    "group consisting of a node and all of the descendants that branch from that node, you\n",
    "would have created a **monophyletic group** (i.e., clade).\n",
    "\n",
    "\n",
    "Which types of characteristics are useful for reconstructing evolutionary histories? An\n",
    "important step is to identify **homologous** characteristics. These are the **characters** (DNA\n",
    "sequences, morphological structures, patterns of development, or behaviors) that are\n",
    "shared among taxa because they were inherited *from a common ancestor*. A **character\n",
    "state** is a version of a character that we observe in organisms. For example, if eye color is a\n",
    "***character***, then blue, black, brown and hazel might be the ***character states***. With respect\n",
    "to DNA, each nucleotide position in a DNA sequence is considered a character; the five\n",
    "possible character states are the four types of nucleic acids that make up DNA (A, C, T, G) or\n",
    "a gap in the sequence (a missing nucleotide). So, the number of characters in a DNA\n",
    "sequence is its particular length (the number of nucleotides in the sequence), but the\n",
    "number of character states is always five.\n",
    "\n",
    "\n",
    "Character states that are shared by taxa but that ***are not*** inherited from a common ancestor\n",
    "are called **analogous traits**. Analogous traits are **not** useful for reconstructing evolutionary\n",
    "history, because they do not give any information about shared ancestry. For example,\n",
    "forelimbs that are modified into wings in birds and forelimbs that are modified into wings\n",
    "in bats are analogous because their most recent common ancestor did not have forelimbs\n",
    "modified into wings; the state of having wings does not tell us anything about their shared\n",
    "ancestor or the evolutionary relationship between birds and bats, because wings evolved\n",
    "independently in the two lineages. If the presence of wings was the only shared trait we\n",
    "used to infer patterns of common ancestry, we would make the mistake of suggesting that\n",
    "bats are more closely related to birds than bats are to other mammals, which evidence\n",
    "from many other characters clearly indicates is not the case. Thus, building cladograms\n",
    "with datasets that include many characters helps prevent incorrect inferences caused by\n",
    "analogous traits. A major benefit of molecular datasets is that they include many characters\n",
    "because each nucleotide is potentially another informative character.\n",
    "\n",
    "\n",
    "For each character you examine, you need to determine the **ancestral** and **derived**\n",
    "character states. How can you do this without already knowing the evolutionary history?\n",
    "You must select an appropriate **outgroup** (a taxon that is related to the taxa of interest) to\n",
    "compare with the **ingroup** (the taxa of interest). All of the members of the ingroup should\n",
    "be more closely related to one another than any are to the outgroup. The key assumption\n",
    "here, which is reasonable but not infallible, is that the character states of the outgroup are\n",
    "**ancestral**, and that the character states present in the ingroup (not the outgroup) are\n",
    "considered to be **derived**. Although the character states of the outgroup are treated as\n",
    "ancestral, an outgroup itself *is not* an ancestor of the ingroup; it could, however, be a sister\n",
    "group, the group most closely related to the entire ingroup."
   ]
  },
  {
   "cell_type": "markdown",
   "id": "ab43bd75-d19d-4311-aa18-cab08b564ed4",
   "metadata": {},
   "source": [
    "\n",
    "<center> <img src=\"data/fig2.3.png\"> <center\\>\n",
    "    \n",
    "<center> Figure 2.3. The Hispaniolan solenodon (Solenodon paradoxus) is found only on Hispaniola. Morphologically, this\n",
    "species closely resembles mammals living at the time dinosaurs inhabited the Earth. During the lab, you will use\n",
    "the solenodon as an outgroup to the primates. <center\\>\n",
    "\n",
    "\n"
   ]
  },
  {
   "cell_type": "markdown",
   "id": "8e13a34a-efce-4543-9fa0-06401387c2c7",
   "metadata": {},
   "source": [
    "A derived character state that is shared by at least two taxa because of common ancestry is\n",
    "called a **synapomorphy**. By definition, synapomorphies are inherited from a common\n",
    "ancestor. Therefore, they are homologous characters.\n",
    "\n",
    "To perform a phylogenetic analysis, character states are coded into a **character matrix**, *a\n",
    "table that aligns homologous characters for an outgroup and members of the ingroup*.\n",
    "\n",
    "\n",
    "\n",
    "<center> <img src=\"data/fig2.4.png\"> <center\\>\n",
    "    \n",
    "<center> Figure 2.4 (A) Venn diagram grouping taxa by shared characters. (B) Cladogram depicting the same relationships and\n",
    "evolutionary history. The evolution of each character has been marked onto the tree with hash marks. <center\\>\n",
    "\n",
    "\n"
   ]
  },
  {
   "cell_type": "markdown",
   "id": "40887e05-f91a-4f73-ab2f-4a3bb3cc254d",
   "metadata": {},
   "source": [
    "Figure 2.4 is an example of how to construct a phylogeny of tetrapods, the four-limbed\n",
    "vertebrates. The outgroup in this example is sharks; they are more distantly-related\n",
    "vertebrates. The absence of hind limbs is coded as “0” because this state is ancestral, and\n",
    "the presence of hind limbs is coded as “1” because possessing hind limbs is the derived\n",
    "state.\n",
    "\n",
    "\n",
    "Notice that all the taxa have the ancestral condition of 0 for the “vertebrae” character.\n",
    "Having vertebrae is the ancestral condition for these organisms, and because **all** of the\n",
    "organisms in the matrix have the same character state, the character of “vertebrae” is *not\n",
    "informative*. It does not tell us anything about how these animals are related to one\n",
    "another.\n",
    "\n",
    "\n",
    "“External pouch” and “feathers” each appear in one taxon only. These characters are\n",
    "derived, but not shared between multiple taxa (they are each in one taxon only). Therefore,\n",
    "these characters are *not informative* for grouping taxa.\n",
    "\n",
    "\n",
    "**In summary, neither ancestral characters nor derived characters that occur in only\n",
    "one lineage are informative for grouping taxa.**\n",
    "\n",
    "\n",
    "We can put other types of data into a character matrix as well. In Figure 2.5, we have lined\n",
    "up DNA sequences for the same gene for three different species. When we choose genes for\n",
    "phylogenetic analyses, we tend to look for genes that are similar enough across taxa to\n",
    "have some parts of the gene that are the same and other parts that vary among taxa. In\n",
    "other words, we choose genes in which unique mutations have accumulated in each taxon\n",
    "over the time the taxa have been diverging. Genes for proteins like insulin, cytochromes,\n",
    "glycolysis enzymes, and muscle proteins tend to be very similar across very different taxa,\n",
    "telling us that the states of these genes and the proteins they produce are important to the\n",
    "physiology of organisms.\n",
    "\n",
    "\n",
    "In Figure 2.5, you can see that characters (loci) 1, 5 and 7 are not informative, because they\n",
    "are identical in all three taxa. The gaps, identified by hyphens, indicate places where there\n",
    "have been mutations. For example, either Species C has had a nucleotide deleted at Locus\n",
    "2, OR species A and B have both had a T inserted at Locus 2. (A deletion is a type of\n",
    "mutation that eliminates parts of a DNA sequence; an insertion is a type of mutation that\n",
    "inserts one or more nucleotides into a DNA sequence)."
   ]
  },
  {
   "cell_type": "markdown",
   "id": "7f886011-bf6e-416b-9c8c-f0a6e585474f",
   "metadata": {},
   "source": [
    "<center> <img src=\"data/fig2.5.png\"> <center\\>\n",
    "    \n",
    "<center> Figure 2.5. A character matrix for DNA sequences of the same gene collected and sequenced from three different\n",
    "species. In this example, there are 7 characters, and five possible character states (A, T, G, C, and gap). <center\\>"
   ]
  },
  {
   "cell_type": "markdown",
   "id": "c0cd275c-bd0f-478d-a5e8-be3984b0d21d",
   "metadata": {},
   "source": [
    "It is important to realize that when you construct an evolutionary tree you are *proposing a\n",
    "hypothesis*. When biologists build trees, they do not initially know the order in which\n",
    "characters evolved or how many times the character states have changed. One guiding\n",
    "principle for finding a plausible evolutionary history is the principle of **parsimony**, which\n",
    "states, in general, that the simplest answer is likely to be the correct one (also known as\n",
    "Occam’s Razor). In the context of phylogenetics, *trees with fewer character state transitions\n",
    "are considered to be more reasonable than trees with a greater number of transitions*. The\n",
    "principle of parsimony asserts that the most parsimonious tree is our preferred hypothesis.\n",
    "Thus, it is reasonable to assume that the tree with the lowest parsimony score (the fewest\n",
    "character state changes) is the best estimate of the actual history of a group of species. But\n",
    "remember, the tree is an estimate – the hypothesis with the most supporting evidence.\n",
    "Additional data or a different analysis might change or further support one’s conclusion."
   ]
  },
  {
   "cell_type": "markdown",
   "id": "b920bd86-2bff-4aad-8851-c53145acb04c",
   "metadata": {},
   "source": [
    "## Glossary\n",
    "Reminder to check out this great resource for understanding phylogenetics: *[Evolutionary Trees – A Primer](https://evolution.berkeley.edu/the-tree-room/evolutionary-trees-a-primer/)*"
   ]
  },
  {
   "cell_type": "markdown",
   "id": "e19a7725-212b-43ab-a8e8-cfbeba96d236",
   "metadata": {},
   "source": [
    "* **ancestral:** a character or character state present in the ancestor (i.e., taxon from which other taxa descend).\n",
    "\n",
    "* **character\\*:** an observable feature, such as eye color or a behavior, or a specific locus (e.g.,gene) in a sequence of DNA, such as cytochrome oxidase 1 (CO1). (*Contrast with character state.*)\n",
    "\n",
    "* **character matrix:** an array that contains the character states (along the top) of a group of taxa (along the left).\n",
    "\n",
    "* **character state\\*:** a specific form of a character; e.g., eye color is a character, whereas brown eyes and blue eyes are character states. (*Contrast with character.*)\n",
    "\n",
    "* **clade:** a monophyletic group made up of an ancestor (node) and all of its descendants; also called a “phylogenetic group.”\n",
    "\n",
    "* **cladogram:** tree-like representation of proposed relationships among taxonomic groups; branch lengths do *not* represent time (i.e., absolute time axis absent). (Contrast with phylogenetic tree.)\n",
    "\n",
    "* **convergence:** when organisms share similar character states but do not share them with their most recent common ancestor, i.e., the character states evolved independently of one another (example: the ability to fly in bats, birds, and insects).\n",
    "\n",
    "* **derived:** a new character or character state not present in the ancestor.\n",
    "\n",
    "* **DNA alignment:** An arrangement of sequences from a region (locus or gene) of DNA from multiple organisms established for the purpose of comparing the states of homologous nucleic acid positions among taxa. Sequences are arranged based on similarities in the order and identity of nucleic acids (As, Cs, Gs, and Ts) present in each sequence. Aligning DNA sequences facilitates the construction of a character matrix from them, as illustrated above in Figure 2.5..\n",
    "\n",
    "* **fossil:** Any preserved remnant or impression of an organism that lived in the past.\n",
    "\n",
    "* **fossil record:** all of the fossils that exist from the history of life, whether discovered or undiscovered by people.\n",
    "\n",
    "* **homolog\\*:** one of two or more features (e.g., DNA sequence, structures, traits, or properties) in different species that are similar due to descent from a common ancestor. Homologs do not necessarily have the exact same structure, function, or behavior.\n",
    "\n",
    "* **homology\\*:** a similarity between two or more features that is inherited from a common ancestor; such features are referred to as “homologous,” and each feature is called a “homolog” of the other features.\n",
    "\n",
    "* **homologous trait:** (See *“homolog.”*)\n",
    "\n",
    "* **homoplasy:** a character state of two or more taxa that was not inherited from a common ancestor of those taxa; character states that arise independently in two or more lineages. Homoplasies can result from evolutionary convergence, parallel evolution, or evolutionary reversal.\n",
    "\n",
    "* **ingroup\\*:** in phylogenetics, the group of organisms of primary interest; evolutionary relationships within the ingroup are determined using synapomorphies. (*Contrast with outgroup.*)\n",
    "\n",
    "* **locus (pl., loci)\\*:** in genetics, a specific location on a chromosome.\n",
    "\n",
    "* **monophyletic group:** (See *“clade.”*)\n",
    "\n",
    "* **morphology:** the study of the form and structure of organisms; also used as a noun to refer to the form and structure of an organism or any of its parts (e.g., the morphology of an insect’s forelimbs).\n",
    "\n",
    "* **outgroup\\*:** a group of organisms used as a point of reference for comparison with the groups of primary interest; typically the most closely related taxon to, but not the ancestor of, the set of taxa under study. Often displays plesiomorphic traits. (*Contrast with ingroup.*)\n",
    "\n",
    "* **phylogenetic tree:** tree-like representation of proposed relationships among taxonomic groups; branch lengths *do* represent time (i.e., absolute time axis present). (*Contrast with cladogram.*)\n",
    "\n",
    "* **polarization:** the process of indicating the directionality of character state changes from ancestral to derived. Traditionally, ancestral states are coded as “0” and derived states are coded with numbers greater than “0.”\n",
    "\n",
    "* **reversal:** the change in character state from a derived state to an ancestral state, such that a descendent regains a characteristic of an ancestor. An example of the progression of changes in a character history that shows reversal is (1) a change from an ancestral state to a derived state and then (2) a change from a derived state back to the ancestral state. A reversal can result in the incorrect inference of fewer evolutionary changes than actually took place in a lineage.\n",
    "\n",
    "* **sister taxa\\*:** two phylogenetic groups (clades or taxa) that are each other’s closest relatives.\n",
    "\n",
    "* **synapomorphy:** A derived or changed character state shared by two or more lineages in a particular clade. Synapomorphies are indicators of common ancestry. For example, within the clade of terrestrial vertebrates the ancestral character state is \"has four legs.\" However, both owls and parrots have the synapomorphic character state \"has two legs and two wings,\" indicating that owls and parrots are more closely related to each other than to four-legged vertebrates.\n",
    "\n",
    " \\* = denotes definitions modified from: Hillis, D. M., D. Sadava, H. C. Heller, and M. V. Price. 2012. *Principles of Life.* Sinauer Associates, Inc. 909 pgs."
   ]
  },
  {
   "cell_type": "markdown",
   "id": "eaf7b560-fde9-4c87-b395-ae2d623a282a",
   "metadata": {},
   "source": [
    "## Part A: Using Morphological Evidence to Make Hypotheses about Relationships"
   ]
  },
  {
   "cell_type": "code",
   "execution_count": 61,
   "id": "f3b6fe3b-fa84-4791-8f21-748db8bc1821",
   "metadata": {
    "tags": []
   },
   "outputs": [
    {
     "data": {
      "text/plain": [
       "<module 'utils' from 'C:\\\\Users\\\\am513\\\\Bio-1B-2\\\\phylo_lab\\\\utils.py'>"
      ]
     },
     "execution_count": 61,
     "metadata": {},
     "output_type": "execute_result"
    }
   ],
   "source": [
    "import importlib\n",
    "import utils\n",
    "from utils import *\n",
    "importlib.reload(utils)"
   ]
  },
  {
   "cell_type": "code",
   "execution_count": 33,
   "id": "f817f102-cce7-48af-8ce0-ca545e53fd2e",
   "metadata": {
    "tags": []
   },
   "outputs": [],
   "source": [
    "primate_morphology = utils.read_fasta(\"data/PrimatePhylogenetics_MorphologicalData.fasta\")"
   ]
  },
  {
   "cell_type": "code",
   "execution_count": 19,
   "id": "7a56dd5f-02cb-4284-9ee0-ba0d67a02f70",
   "metadata": {
    "tags": []
   },
   "outputs": [
    {
     "name": "stdout",
     "output_type": "stream",
     "text": [
      ">Solenodon\n",
      "000000000000\n",
      ">Chimpanzee\n",
      "111111111100\n",
      ">Galago\n",
      "100000000011\n",
      ">Gibbon\n",
      "101110011000\n",
      ">Gorilla\n",
      "111111111000\n",
      ">Human\n",
      "111111111100\n",
      ">Lemur\n",
      "100000000011\n",
      ">Marmoset\n",
      "101100011000\n",
      ">Orangutan\n",
      "101111111000\n",
      ">Tarsier\n",
      "100000001001\n"
     ]
    }
   ],
   "source": [
    "print(primate_morphology)"
   ]
  },
  {
   "cell_type": "code",
   "execution_count": 47,
   "id": "26e858ec-bbb7-4748-ad5f-66d997c9b256",
   "metadata": {
    "tags": []
   },
   "outputs": [
    {
     "name": "stdout",
     "output_type": "stream",
     "text": [
      "Bootstrapping Trees\n"
     ]
    },
    {
     "name": "stderr",
     "output_type": "stream",
     "text": [
      "100%|██████████████████████████████████████████████████████████████████████████████████| 86/86 [01:27<00:00,  1.02s/it]"
     ]
    },
    {
     "name": "stdout",
     "output_type": "stream",
     "text": [
      "Two Trees Found\n"
     ]
    },
    {
     "name": "stderr",
     "output_type": "stream",
     "text": [
      "\n"
     ]
    }
   ],
   "source": [
    "utils.run_parsimony(\"data/PrimatePhylogenetics_MorphologicalData.fasta\",\n",
    "                    outgroup=\"Solenodon\",\n",
    "                    monophyletic_outgroup=False)"
   ]
  },
  {
   "cell_type": "code",
   "execution_count": 57,
   "id": "7cf077ce-78ff-41af-bd2a-45ce5d466043",
   "metadata": {
    "tags": []
   },
   "outputs": [
    {
     "name": "stdout",
     "output_type": "stream",
     "text": [
      "Tree 1 of 2\n",
      "Parsimony Length = 13\n",
      "\n",
      "\n",
      "      _____________________________________________________________ Solenodon\n",
      "     |\n",
      "     |                                                     ________ Galago\n",
      "     |                                                    |\n",
      "     |                                        ____________| \n",
      "     |                                       |            |\n",
      "     |                                       |            |________ Lemur\n",
      "     |_______________________________________|             \n",
      "     |                                       |           \n",
      "     |                                       |_____________________ Tarsier\n",
      "     |    \n",
      "     |   \n",
      "     |      _______________________________________________________ Marmoset\n",
      "     |     |\n",
      "     |     |                  _____________________________________ Orangutan\n",
      "     |     |                 |\n",
      "     |     |     ____________|                _____________________ Gorilla\n",
      "     |     |    |            |               |\n",
      "     |_____|    |            |_______________|\n",
      "           |    |                            |             ________ Chimpanzee\n",
      "           |    |                            |            |\n",
      "           |    |                            |____________|\n",
      "           |    |                                         |\n",
      "           |    |                                         |________ Human\n",
      "           |____|\n",
      "                |\n",
      "                |\n",
      "                |__________________________________________________ Gibbon\n",
      "    \n"
     ]
    }
   ],
   "source": [
    "utils.display_trees(\"data/PrimatePhylogenetics_MorphologicalData.fasta\", tree_number=1)"
   ]
  },
  {
   "cell_type": "code",
   "execution_count": 56,
   "id": "6b3e1dec-85ad-4164-86eb-102570e4fc00",
   "metadata": {
    "tags": []
   },
   "outputs": [
    {
     "name": "stdout",
     "output_type": "stream",
     "text": [
      "Tree 2 of 2\n",
      "Parsimony Length = 13\n",
      "\n",
      "\n",
      "      _____________________________________________________________ Solenodon\n",
      "     |\n",
      "     |                                                     ________ Galago\n",
      "     |                                                    |\n",
      "     |____________________________________________________| \n",
      "     |                                                    |\n",
      "     |                                                    |________ Lemur\n",
      "     |             \n",
      "     |                                                   \n",
      "     |      _______________________________________________________ Tarsier\n",
      "     |     |\n",
      "     |     |\n",
      "     |     |     __________________________________________________ Marmoset\n",
      "     |     |    |\n",
      "     |_____|    |         \n",
      "           |    |            ______________________________________ Orangutan\n",
      "           |    |           |\n",
      "           |    |           |\n",
      "           |    |     ______|           ___________________________ Gorilla\n",
      "           |____|    |      |          | \n",
      "                |    |      |__________|                   ________ Chimpanzee\n",
      "                |    |                 |                  |\n",
      "                |    |                 |__________________|                \n",
      "                |____|                                    |\n",
      "                     |                                    |________ Human\n",
      "                     |\n",
      "                     |\n",
      "                     |_____________________________________________ Gibbon\n",
      "    \n"
     ]
    }
   ],
   "source": [
    "utils.display_trees(\"data/PrimatePhylogenetics_MorphologicalData.fasta\", tree_number=2)"
   ]
  },
  {
   "cell_type": "markdown",
   "id": "21b1740b-5592-4daa-af32-a7d823ca39d8",
   "metadata": {},
   "source": [
    "## Part B: Molecular Estimation of the Phylogeny of Primates Using the Epsilon Hemoglobin Gene"
   ]
  },
  {
   "cell_type": "code",
   "execution_count": 51,
   "id": "6001c397-fd4d-4f16-9d69-ff21f9e70dc8",
   "metadata": {
    "tags": []
   },
   "outputs": [
    {
     "name": "stdout",
     "output_type": "stream",
     "text": [
      "Aligning Sequences\n"
     ]
    },
    {
     "name": "stderr",
     "output_type": "stream",
     "text": [
      "100%|██████████████████████████████████████████████████████████████████████████████████| 87/87 [01:28<00:00,  1.02s/it]"
     ]
    },
    {
     "name": "stdout",
     "output_type": "stream",
     "text": [
      "Alignment Complete\n"
     ]
    },
    {
     "name": "stderr",
     "output_type": "stream",
     "text": [
      "\n"
     ]
    }
   ],
   "source": [
    "utils.align_fasta(\"data/Primate_Epsilon.fas\")"
   ]
  },
  {
   "cell_type": "code",
   "execution_count": 53,
   "id": "8ed9da2f-e7dc-44ea-ac6b-ad8907a46e4d",
   "metadata": {
    "tags": []
   },
   "outputs": [
    {
     "name": "stdout",
     "output_type": "stream",
     "text": [
      "Bootstrapping Trees\n"
     ]
    },
    {
     "name": "stderr",
     "output_type": "stream",
     "text": [
      "100%|██████████████████████████████████████████████████████████████████████████████████| 83/83 [01:24<00:00,  1.02s/it]"
     ]
    },
    {
     "name": "stdout",
     "output_type": "stream",
     "text": [
      "Two Trees Found\n"
     ]
    },
    {
     "name": "stderr",
     "output_type": "stream",
     "text": [
      "\n"
     ]
    }
   ],
   "source": [
    "utils.run_parsimony(\"data/Primate_Epsilon.fas\", outgroup=\"Goat\", monophyletic_outgroup=True)"
   ]
  },
  {
   "cell_type": "code",
   "execution_count": 54,
   "id": "eeb94bb8-b9c8-405e-aafc-cc118420fbf7",
   "metadata": {
    "tags": []
   },
   "outputs": [
    {
     "name": "stdout",
     "output_type": "stream",
     "text": [
      "Tree 1 of 2\n",
      "Parsimony Length = 1064\n",
      "\n",
      "   __________________________________________________________________ Goat\n",
      "  |    \n",
      "  |\n",
      "  |                               ___________________________________ Gibbon\n",
      "  |                              |\n",
      "  |                         _____|        ___________________________ Orangutan\n",
      "  |                        |     |       |\n",
      "  |                        |     |       |\n",
      "  |                        |     |_______|     ______________________ Gorilla\n",
      "  |                        |             |    |\n",
      "  |                        |             |____|\n",
      "  |                        |                  |          ____________ Chimpanzee\n",
      "  |                        |                  |         |\n",
      "  |                        |                  |_________|\n",
      "  |                        |                            |\n",
      "  |                  ______|                            |____________ Human\n",
      "  |                 |      |\n",
      "  |                 |      |\n",
      "  |                 |      |\n",
      "  |                 |      |_________________________________________ Marmoset\n",
      "  |         ________|\n",
      "  |        |        |\n",
      "  |        |        |\n",
      "  |        |        |________________________________________________ Tarsier\n",
      "  |        |\n",
      "  |________|\n",
      "           |                                               __________ Galago\n",
      "           |                                              |\n",
      "           |______________________________________________|\n",
      "                                                          |\n",
      "                                                          |__________ Lemur\n",
      "        \n",
      "        \n"
     ]
    }
   ],
   "source": [
    "utils.display_trees(\"data/Primate_Epsilon.fas\", 1)"
   ]
  },
  {
   "cell_type": "code",
   "execution_count": 55,
   "id": "9665def8-cf52-4ec9-8571-2a0f5396ed44",
   "metadata": {
    "tags": []
   },
   "outputs": [
    {
     "name": "stdout",
     "output_type": "stream",
     "text": [
      "Tree 2 of 2\n",
      "Parsimony Length = 1064\n",
      "\n",
      "   __________________________________________________________________ Goat\n",
      "  |    \n",
      "  |\n",
      "  |                               ___________________________________ Gibbon\n",
      "  |                              |\n",
      "  |                         _____|        ___________________________ Orangutan\n",
      "  |                        |     |       |\n",
      "  |                        |     |       |\n",
      "  |                        |     |_______|               ____________ Chimpanzee\n",
      "  |                        |             |              |\n",
      "  |                        |             |         _____|\n",
      "  |                        |             |        |     |\n",
      "  |                        |             |        |     |____________ Gorilla\n",
      "  |                        |             |________|    \n",
      "  |                        |                      |      \n",
      "  |                  ______|                      | \n",
      "  |                 |      |                      |__________________ Human\n",
      "  |                 |      |\n",
      "  |                 |      |\n",
      "  |                 |      |_________________________________________ Marmoset\n",
      "  |         ________|\n",
      "  |        |        |\n",
      "  |        |        |\n",
      "  |        |        |________________________________________________ Tarsier\n",
      "  |        |\n",
      "  |________|\n",
      "           |                                               __________ Galago\n",
      "           |                                              |\n",
      "           |______________________________________________|\n",
      "                                                          |\n",
      "                                                          |__________ Lemur\n",
      "        \n",
      "        \n"
     ]
    }
   ],
   "source": [
    "utils.display_trees(\"data/Primate_Epsilon.fas\", 2)"
   ]
  },
  {
   "cell_type": "markdown",
   "id": "04c786ee-5f69-412b-ada8-24979283e2d1",
   "metadata": {},
   "source": [
    "## Part C: Molecular Estimation of the Phylogeny of Great Apes Using the Cytochrome B Gene"
   ]
  },
  {
   "cell_type": "code",
   "execution_count": 62,
   "id": "956684f1-5a47-4e24-a15d-bd63727d70d3",
   "metadata": {
    "tags": []
   },
   "outputs": [
    {
     "name": "stdout",
     "output_type": "stream",
     "text": [
      "Aligning Sequences\n"
     ]
    },
    {
     "name": "stderr",
     "output_type": "stream",
     "text": [
      "100%|████████████████████████████████████████████████████████████████████████████████| 119/119 [02:00<00:00,  1.02s/it]"
     ]
    },
    {
     "name": "stdout",
     "output_type": "stream",
     "text": [
      "Alignment Complete\n"
     ]
    },
    {
     "name": "stderr",
     "output_type": "stream",
     "text": [
      "\n"
     ]
    }
   ],
   "source": [
    "utils.align_fasta(\"data/Apes_CytB.fasta\")"
   ]
  },
  {
   "cell_type": "code",
   "execution_count": 63,
   "id": "3fac8411-6d0d-4d9e-aca9-6c571bbb06c6",
   "metadata": {
    "tags": []
   },
   "outputs": [
    {
     "name": "stdout",
     "output_type": "stream",
     "text": [
      "Bootstrapping Trees\n"
     ]
    },
    {
     "name": "stderr",
     "output_type": "stream",
     "text": [
      "100%|████████████████████████████████████████████████████████████████████████████████| 232/232 [03:55<00:00,  1.02s/it]"
     ]
    },
    {
     "name": "stdout",
     "output_type": "stream",
     "text": [
      "One Tree Found\n"
     ]
    },
    {
     "name": "stderr",
     "output_type": "stream",
     "text": [
      "\n"
     ]
    }
   ],
   "source": [
    "utils.run_parsimony(\"data/Apes_CytB.fasta\", \"Orangutan\", monophyletic_outgroup=True)"
   ]
  },
  {
   "cell_type": "code",
   "execution_count": null,
   "id": "3db01569-6e4b-445c-b094-275b22921bf1",
   "metadata": {},
   "outputs": [],
   "source": []
  },
  {
   "cell_type": "code",
   "execution_count": null,
   "id": "f6be5e34-92eb-425e-b71c-0eaacf5d4983",
   "metadata": {},
   "outputs": [],
   "source": []
  },
  {
   "cell_type": "code",
   "execution_count": null,
   "id": "d2c83392-c312-4ca3-8aaf-e17556de26e9",
   "metadata": {},
   "outputs": [],
   "source": []
  }
 ],
 "metadata": {
  "kernelspec": {
   "display_name": "Python 3 (ipykernel)",
   "language": "python",
   "name": "python3"
  },
  "language_info": {
   "codemirror_mode": {
    "name": "ipython",
    "version": 3
   },
   "file_extension": ".py",
   "mimetype": "text/x-python",
   "name": "python",
   "nbconvert_exporter": "python",
   "pygments_lexer": "ipython3",
   "version": "3.9.16"
  }
 },
 "nbformat": 4,
 "nbformat_minor": 5
}
